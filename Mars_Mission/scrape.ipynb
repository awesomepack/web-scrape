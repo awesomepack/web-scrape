{
 "cells": [
  {
   "cell_type": "code",
   "execution_count": 68,
   "source": [
    "# importing dependencies\r\n",
    "from bs4 import BeautifulSoup as bs\r\n",
    "from splinter import Browser\r\n",
    "from webdriver_manager.chrome import ChromeDriverManager\r\n",
    "import pandas as pd\r\n",
    "import requests"
   ],
   "outputs": [],
   "metadata": {}
  },
  {
   "cell_type": "code",
   "execution_count": 63,
   "source": [
    "# Setting up Splinter\r\n",
    "executable_path = {'executable_path': ChromeDriverManager().install()}\r\n",
    "browser = Browser('chrome' , **executable_path , headless = False)\r\n"
   ],
   "outputs": [
    {
     "output_type": "stream",
     "name": "stderr",
     "text": [
      "\n",
      "\n",
      "====== WebDriver manager ======\n",
      "Current google-chrome version is 92.0.4515\n",
      "Get LATEST driver version for 92.0.4515\n",
      "Driver [C:\\Users\\daypa\\.wdm\\drivers\\chromedriver\\win32\\92.0.4515.107\\chromedriver.exe] found in cache\n"
     ]
    }
   ],
   "metadata": {}
  },
  {
   "cell_type": "code",
   "execution_count": 64,
   "source": [
    "# Scraping the news title and its paragraph text from the Mars news site https://redplanetscience.com/\r\n",
    "news_target = 'https://redplanetscience.com/'\r\n",
    "browser.visit(news_target)"
   ],
   "outputs": [],
   "metadata": {}
  },
  {
   "cell_type": "code",
   "execution_count": 65,
   "source": [
    "# Storing the current browser's html page\r\n",
    "news_html = browser.html\r\n",
    "\r\n",
    "# Creating soup object from html file\r\n",
    "soup = bs(news_html , 'html.parser')"
   ],
   "outputs": [],
   "metadata": {}
  },
  {
   "cell_type": "code",
   "execution_count": 66,
   "source": [
    "# The html element that contains all target data is a <div> element with class = 'list_text'\r\n",
    "\r\n",
    "# The title text we are interested in is in <div class = 'content_title'\r\n",
    "# We want the most recent title so we use the find() function\r\n",
    "news_title = soup.find('div' , class_ = 'content_title').text\r\n",
    "\r\n",
    "# The paragraph text we are interested in has class = 'article_teaser_body'\r\n",
    "news_p = soup.find('div' , class_ = 'article_teaser_body').text\r\n"
   ],
   "outputs": [],
   "metadata": {}
  },
  {
   "cell_type": "code",
   "execution_count": 67,
   "source": [
    "# Visiting the space image site 'https://spaceimages-mars.com/'\r\n",
    "image_target = 'https://spaceimages-mars.com/'\r\n",
    "browser.visit(image_target)\r\n",
    "image_html = browser.html\r\n",
    "news_soup = bs(image_html , 'html.parser')"
   ],
   "outputs": [],
   "metadata": {}
  },
  {
   "cell_type": "code",
   "execution_count": 75,
   "source": [
    "# Extracting the relative url of the featured image\r\n",
    "rel_url = news_soup.find('img' , class_ = 'headerimage').get('src')\r\n",
    "\r\n",
    "# Concatenating the root url with that of the imag url\r\n",
    "img_url = image_target + rel_url\r\n"
   ],
   "outputs": [],
   "metadata": {}
  },
  {
   "cell_type": "code",
   "execution_count": 76,
   "source": [
    "# Visiting the Mars Facts site 'https://galaxyfacts-mars.com/'\r\n"
   ],
   "outputs": [
    {
     "output_type": "execute_result",
     "data": {
      "text/plain": [
       "'https://spaceimages-mars.com/image/featured/mars1.jpg'"
      ]
     },
     "metadata": {},
     "execution_count": 76
    }
   ],
   "metadata": {}
  },
  {
   "cell_type": "code",
   "execution_count": null,
   "source": [],
   "outputs": [],
   "metadata": {}
  }
 ],
 "metadata": {
  "orig_nbformat": 4,
  "language_info": {
   "name": "python",
   "version": "3.8.8",
   "mimetype": "text/x-python",
   "codemirror_mode": {
    "name": "ipython",
    "version": 3
   },
   "pygments_lexer": "ipython3",
   "nbconvert_exporter": "python",
   "file_extension": ".py"
  },
  "kernelspec": {
   "name": "python3",
   "display_name": "Python 3.8.8 64-bit (conda)"
  },
  "interpreter": {
   "hash": "1f61ff51b365b6fb2c14cce9a7b99068f7a2d9ab082ba55f2d8a4c0cff92da04"
  }
 },
 "nbformat": 4,
 "nbformat_minor": 2
}