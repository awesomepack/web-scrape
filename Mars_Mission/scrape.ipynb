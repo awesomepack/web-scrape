{
 "cells": [
  {
   "cell_type": "code",
   "execution_count": 1,
   "source": [
    "# importing dependencies\r\n",
    "from bs4 import BeautifulSoup as bs\r\n",
    "from splinter import Browser\r\n",
    "from webdriver_manager.chrome import ChromeDriverManager\r\n",
    "import pandas as pd"
   ],
   "outputs": [],
   "metadata": {}
  },
  {
   "cell_type": "code",
   "execution_count": 2,
   "source": [
    "# Setting up Splinter\r\n",
    "executable_path = {'executable_path': ChromeDriverManager().install()}\r\n",
    "browser = Browser('chrome' , **executable_path , headless = False)\r\n"
   ],
   "outputs": [
    {
     "output_type": "stream",
     "name": "stderr",
     "text": [
      "\n",
      "\n",
      "====== WebDriver manager ======\n",
      "Current google-chrome version is 92.0.4515\n",
      "Get LATEST driver version for 92.0.4515\n",
      "Get LATEST driver version for 92.0.4515\n",
      "Trying to download new driver from https://chromedriver.storage.googleapis.com/92.0.4515.107/chromedriver_win32.zip\n",
      "Driver has been saved in cache [C:\\Users\\daypa\\.wdm\\drivers\\chromedriver\\win32\\92.0.4515.107]\n"
     ]
    }
   ],
   "metadata": {}
  },
  {
   "cell_type": "code",
   "execution_count": 3,
   "source": [
    "# Scraping the news title and its paragraph text from the Mars news site https://redplanetscience.com/\r\n",
    "news_target = 'https://redplanetscience.com/'\r\n",
    "browser.visit(news_target)"
   ],
   "outputs": [],
   "metadata": {}
  },
  {
   "cell_type": "code",
   "execution_count": 4,
   "source": [
    "# Storing the current browser's html page\r\n",
    "news_html = browser.html\r\n",
    "\r\n",
    "# Creating soup object from html file\r\n",
    "soup = bs(news_html , 'html.parser')"
   ],
   "outputs": [],
   "metadata": {}
  },
  {
   "cell_type": "code",
   "execution_count": 5,
   "source": [
    "# The html element that contains all target data is a <div> element with class = 'list_text'\r\n",
    "\r\n",
    "# The title text we are interested in is in <div class = 'content_title'\r\n",
    "# We want the most recent title so we use the find() function\r\n",
    "news_title = soup.find('div' , class_ = 'content_title').text\r\n",
    "\r\n",
    "# The paragraph text we are interested in has class = 'article_teaser_body'\r\n",
    "news_p = soup.find('div' , class_ = 'article_teaser_body').text\r\n"
   ],
   "outputs": [],
   "metadata": {}
  },
  {
   "cell_type": "code",
   "execution_count": 6,
   "source": [
    "# Visiting the space image site 'https://spaceimages-mars.com/'\r\n",
    "image_target = 'https://spaceimages-mars.com/'\r\n",
    "browser.visit(image_target)\r\n",
    "image_html = browser.html\r\n",
    "news_soup = bs(image_html , 'html.parser')"
   ],
   "outputs": [],
   "metadata": {}
  },
  {
   "cell_type": "code",
   "execution_count": 7,
   "source": [
    "# Extracting the relative url of the featured image\r\n",
    "rel_url = news_soup.find('img' , class_ = 'headerimage').get('src')\r\n",
    "\r\n",
    "# Concatenating the root url with that of the imag url\r\n",
    "img_url = image_target + rel_url\r\n"
   ],
   "outputs": [],
   "metadata": {}
  },
  {
   "cell_type": "code",
   "execution_count": 8,
   "source": [
    "# Visiting the Mars Facts site 'https://galaxyfacts-mars.com/'\r\n",
    "facts_target = 'https://galaxyfacts-mars.com/'\r\n",
    "\r\n",
    "# Use pandas to scrape the html table of all the mars facts\r\n",
    "tables = pd.read_html(facts_target)\r\n",
    "\r\n",
    "# Slicing out the table we are interested in\r\n",
    "mars_facts = tables[0]\r\n",
    "\r\n",
    "# Displaying the mars_facts DF\r\n",
    "mars_facts.head()"
   ],
   "outputs": [
    {
     "output_type": "execute_result",
     "data": {
      "text/plain": [
       "                         0                1                2\n",
       "0  Mars - Earth Comparison             Mars            Earth\n",
       "1                Diameter:         6,779 km        12,742 km\n",
       "2                    Mass:  6.39 × 10^23 kg  5.97 × 10^24 kg\n",
       "3                   Moons:                2                1\n",
       "4       Distance from Sun:   227,943,824 km   149,598,262 km"
      ],
      "text/html": [
       "<div>\n",
       "<style scoped>\n",
       "    .dataframe tbody tr th:only-of-type {\n",
       "        vertical-align: middle;\n",
       "    }\n",
       "\n",
       "    .dataframe tbody tr th {\n",
       "        vertical-align: top;\n",
       "    }\n",
       "\n",
       "    .dataframe thead th {\n",
       "        text-align: right;\n",
       "    }\n",
       "</style>\n",
       "<table border=\"1\" class=\"dataframe\">\n",
       "  <thead>\n",
       "    <tr style=\"text-align: right;\">\n",
       "      <th></th>\n",
       "      <th>0</th>\n",
       "      <th>1</th>\n",
       "      <th>2</th>\n",
       "    </tr>\n",
       "  </thead>\n",
       "  <tbody>\n",
       "    <tr>\n",
       "      <th>0</th>\n",
       "      <td>Mars - Earth Comparison</td>\n",
       "      <td>Mars</td>\n",
       "      <td>Earth</td>\n",
       "    </tr>\n",
       "    <tr>\n",
       "      <th>1</th>\n",
       "      <td>Diameter:</td>\n",
       "      <td>6,779 km</td>\n",
       "      <td>12,742 km</td>\n",
       "    </tr>\n",
       "    <tr>\n",
       "      <th>2</th>\n",
       "      <td>Mass:</td>\n",
       "      <td>6.39 × 10^23 kg</td>\n",
       "      <td>5.97 × 10^24 kg</td>\n",
       "    </tr>\n",
       "    <tr>\n",
       "      <th>3</th>\n",
       "      <td>Moons:</td>\n",
       "      <td>2</td>\n",
       "      <td>1</td>\n",
       "    </tr>\n",
       "    <tr>\n",
       "      <th>4</th>\n",
       "      <td>Distance from Sun:</td>\n",
       "      <td>227,943,824 km</td>\n",
       "      <td>149,598,262 km</td>\n",
       "    </tr>\n",
       "  </tbody>\n",
       "</table>\n",
       "</div>"
      ]
     },
     "metadata": {},
     "execution_count": 8
    }
   ],
   "metadata": {}
  },
  {
   "cell_type": "code",
   "execution_count": 9,
   "source": [
    "# Transforming the extracted table using pandas\r\n",
    "# Renaming the column names\r\n",
    "mars_facts.columns = ['Mars/Earth Comparison' , 'Mars' , 'Earth']\r\n",
    "\r\n",
    "# Dropping the first row in the data frame\r\n",
    "mars_facts.drop( axis= 0 , index = 0 , inplace=True)\r\n",
    "\r\n",
    "# Displaying the transformed Data Frame\r\n",
    "mars_facts.head()"
   ],
   "outputs": [
    {
     "output_type": "execute_result",
     "data": {
      "text/plain": [
       "  Mars/Earth Comparison             Mars            Earth\n",
       "1             Diameter:         6,779 km        12,742 km\n",
       "2                 Mass:  6.39 × 10^23 kg  5.97 × 10^24 kg\n",
       "3                Moons:                2                1\n",
       "4    Distance from Sun:   227,943,824 km   149,598,262 km\n",
       "5       Length of Year:   687 Earth days      365.24 days"
      ],
      "text/html": [
       "<div>\n",
       "<style scoped>\n",
       "    .dataframe tbody tr th:only-of-type {\n",
       "        vertical-align: middle;\n",
       "    }\n",
       "\n",
       "    .dataframe tbody tr th {\n",
       "        vertical-align: top;\n",
       "    }\n",
       "\n",
       "    .dataframe thead th {\n",
       "        text-align: right;\n",
       "    }\n",
       "</style>\n",
       "<table border=\"1\" class=\"dataframe\">\n",
       "  <thead>\n",
       "    <tr style=\"text-align: right;\">\n",
       "      <th></th>\n",
       "      <th>Mars/Earth Comparison</th>\n",
       "      <th>Mars</th>\n",
       "      <th>Earth</th>\n",
       "    </tr>\n",
       "  </thead>\n",
       "  <tbody>\n",
       "    <tr>\n",
       "      <th>1</th>\n",
       "      <td>Diameter:</td>\n",
       "      <td>6,779 km</td>\n",
       "      <td>12,742 km</td>\n",
       "    </tr>\n",
       "    <tr>\n",
       "      <th>2</th>\n",
       "      <td>Mass:</td>\n",
       "      <td>6.39 × 10^23 kg</td>\n",
       "      <td>5.97 × 10^24 kg</td>\n",
       "    </tr>\n",
       "    <tr>\n",
       "      <th>3</th>\n",
       "      <td>Moons:</td>\n",
       "      <td>2</td>\n",
       "      <td>1</td>\n",
       "    </tr>\n",
       "    <tr>\n",
       "      <th>4</th>\n",
       "      <td>Distance from Sun:</td>\n",
       "      <td>227,943,824 km</td>\n",
       "      <td>149,598,262 km</td>\n",
       "    </tr>\n",
       "    <tr>\n",
       "      <th>5</th>\n",
       "      <td>Length of Year:</td>\n",
       "      <td>687 Earth days</td>\n",
       "      <td>365.24 days</td>\n",
       "    </tr>\n",
       "  </tbody>\n",
       "</table>\n",
       "</div>"
      ]
     },
     "metadata": {},
     "execution_count": 9
    }
   ],
   "metadata": {}
  },
  {
   "cell_type": "code",
   "execution_count": 10,
   "source": [
    "# Converting the pandas DF into html table\r\n",
    "facts_html = mars_facts.to_html()"
   ],
   "outputs": [],
   "metadata": {}
  },
  {
   "cell_type": "code",
   "execution_count": 17,
   "source": [
    "# Visiting Astropedia to scrape hemisphere images 'https://marshemispheres.com/'\r\n",
    "hem_target = 'https://marshemispheres.com/'\r\n",
    "browser.visit(hem_target)\r\n",
    "hem_html = browser.html\r\n",
    "hem_soup = bs(hem_html , 'html.parser')\r\n",
    "# Finding the links to the hemispheres in the landing page\r\n",
    "hem_links = browser.links.find_by_partial_text('Hemisphere')"
   ],
   "outputs": [],
   "metadata": {}
  },
  {
   "cell_type": "code",
   "execution_count": 20,
   "source": [
    "\r\n",
    "# Defining list to contain hemisphere dictionaries\r\n",
    "Hems = []\r\n",
    "\r\n",
    "# Looping through the links to the different hemispheres\r\n",
    "for link in range(0 , 4):\r\n",
    "\r\n",
    "    # Finding the links to the hemispheres in the landing page\r\n",
    "    hem_links = browser.links.find_by_partial_text('Hemisphere')\r\n",
    "\r\n",
    "    # navigating to the page\r\n",
    "    hem_links[link].click()\r\n",
    "\r\n",
    "    # Receiving the html response\r\n",
    "    html = browser.html\r\n",
    "\r\n",
    "    # Generating soup object from html response\r\n",
    "    soup = bs(html , 'html.parser')\r\n",
    "\r\n",
    "    # Extracting hemisphere title\r\n",
    "    title = soup.find_all('h2' , class_ = 'title')[0].text\r\n",
    "\r\n",
    "    # Extracting imag url\r\n",
    "    img = soup.find('img' , class_ = 'wide-image').get('src')\r\n",
    "    \r\n",
    "\r\n",
    "    # Defining hemisphere dictionary\r\n",
    "    hem_dict = {\r\n",
    "        'title': title ,\r\n",
    "        'image_url': img\r\n",
    "        }\r\n",
    "\r\n",
    "    # Appending Hems list\r\n",
    "    Hems.append(hem_dict)\r\n",
    "    \r\n",
    "\r\n",
    "    # Return to home page\r\n",
    "    browser.links.find_by_partial_text('Back').click()\r\n",
    "\r\n",
    "\r\n"
   ],
   "outputs": [],
   "metadata": {}
  },
  {
   "cell_type": "code",
   "execution_count": 26,
   "source": [
    "# Confirming that Hems contains a dictionary for each hemispher\r\n",
    "for dic in Hems:\r\n",
    "    print(dic)"
   ],
   "outputs": [
    {
     "output_type": "stream",
     "name": "stdout",
     "text": [
      "{'title': 'Cerberus Hemisphere Enhanced', 'image_url': 'images/f5e372a36edfa389625da6d0cc25d905_cerberus_enhanced.tif_full.jpg'}\n",
      "{'title': 'Schiaparelli Hemisphere Enhanced', 'image_url': 'images/3778f7b43bbbc89d6e3cfabb3613ba93_schiaparelli_enhanced.tif_full.jpg'}\n",
      "{'title': 'Syrtis Major Hemisphere Enhanced', 'image_url': 'images/555e6403a6ddd7ba16ddb0e471cadcf7_syrtis_major_enhanced.tif_full.jpg'}\n",
      "{'title': 'Valles Marineris Hemisphere Enhanced', 'image_url': 'images/b3c7c6c9138f57b4756be9b9c43e3a48_valles_marineris_enhanced.tif_full.jpg'}\n"
     ]
    }
   ],
   "metadata": {}
  }
 ],
 "metadata": {
  "orig_nbformat": 4,
  "language_info": {
   "name": "python",
   "version": "3.8.8",
   "mimetype": "text/x-python",
   "codemirror_mode": {
    "name": "ipython",
    "version": 3
   },
   "pygments_lexer": "ipython3",
   "nbconvert_exporter": "python",
   "file_extension": ".py"
  },
  "kernelspec": {
   "name": "python3",
   "display_name": "Python 3.8.8 64-bit (conda)"
  },
  "interpreter": {
   "hash": "1f61ff51b365b6fb2c14cce9a7b99068f7a2d9ab082ba55f2d8a4c0cff92da04"
  }
 },
 "nbformat": 4,
 "nbformat_minor": 2
}